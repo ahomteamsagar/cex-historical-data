{
 "cells": [
  {
   "cell_type": "code",
   "execution_count": 13,
   "id": "5b7894b7",
   "metadata": {},
   "outputs": [],
   "source": [
    "import pandas as pd\n",
    "import numpy as np"
   ]
  },
  {
   "cell_type": "code",
   "execution_count": 14,
   "id": "3de80d1a",
   "metadata": {},
   "outputs": [
    {
     "data": {
      "application/vnd.microsoft.datawrangler.viewer.v0+json": {
       "columns": [
        {
         "name": "index",
         "rawType": "int64",
         "type": "integer"
        },
        {
         "name": "timestamp",
         "rawType": "datetime64[ns]",
         "type": "datetime"
        },
        {
         "name": "datetime",
         "rawType": "datetime64[ns, UTC]",
         "type": "unknown"
        },
        {
         "name": "blockNumber",
         "rawType": "int64",
         "type": "integer"
        },
        {
         "name": "txHash",
         "rawType": "object",
         "type": "string"
        },
        {
         "name": "sender",
         "rawType": "object",
         "type": "string"
        },
        {
         "name": "recipient",
         "rawType": "object",
         "type": "string"
        },
        {
         "name": "amount0",
         "rawType": "float64",
         "type": "float"
        },
        {
         "name": "amount1",
         "rawType": "float64",
         "type": "float"
        },
        {
         "name": "price",
         "rawType": "int64",
         "type": "integer"
        },
        {
         "name": "tick",
         "rawType": "int64",
         "type": "integer"
        }
       ],
       "ref": "d9598e5c-c790-416f-a91f-ab636f9b1b7d",
       "rows": [
        [
         "0",
         "2021-05-05 21:42:13",
         "2021-05-05 21:42:13+00:00",
         "12376730",
         "0x9bf327df628323d51256f64e63e26acc15559776f64670252227ca7018f70bd6",
         "0xE592427A0AEce92De3Edee1F18E0157C05861564",
         "0xe5C27478cDDF77670b16352D6B5752F60a96c71f",
         "0.0042213",
         "-240.633362",
         "57175",
         "63490"
        ],
        [
         "1",
         "2021-05-05 21:51:06",
         "2021-05-05 21:51:06+00:00",
         "12376776",
         "0xd751b357b27be36d0b98faeaf9e1d078117ff3215f79f2c96720dc091f9516c7",
         "0xE592427A0AEce92De3Edee1F18E0157C05861564",
         "0xE3c14271E10b41fdF603c845434493884a8dB4d9",
         "0.00701711",
         "-400.0",
         "57174",
         "63490"
        ],
        [
         "2",
         "2021-05-05 21:57:19",
         "2021-05-05 21:57:19+00:00",
         "12376802",
         "0xccbe191bb29b7c89d941bd3f4de81aeb8a57c9e253a0dfb92c9453a196d89356",
         "0xE592427A0AEce92De3Edee1F18E0157C05861564",
         "0x00dbc6E6b3420615f595FCB9DCD0D4a0e4514201",
         "0.08772658",
         "-5000.0",
         "57158",
         "63487"
        ],
        [
         "3",
         "2021-05-05 21:59:00",
         "2021-05-05 21:59:00+00:00",
         "12376811",
         "0x518fefce14365f42f5144da5503700e285540eade9907cfbff5e3b0fdda65c6d",
         "0xE592427A0AEce92De3Edee1F18E0157C05861564",
         "0xe623031eC40DAA3EF5f87b408a95c9221035291f",
         "0.06022163",
         "-3431.56027",
         "57148",
         "63485"
        ],
        [
         "4",
         "2021-05-05 22:08:57",
         "2021-05-05 22:08:57+00:00",
         "12376869",
         "0xefd3b31c172ff21b8987ba4b224110f9e22dc3d9c72649ae82c2970461e38d7f",
         "0xE592427A0AEce92De3Edee1F18E0157C05861564",
         "0xE592427A0AEce92De3Edee1F18E0157C05861564",
         "0.03048526",
         "-1736.872329",
         "57142",
         "63484"
        ]
       ],
       "shape": {
        "columns": 10,
        "rows": 5
       }
      },
      "text/html": [
       "<div>\n",
       "<style scoped>\n",
       "    .dataframe tbody tr th:only-of-type {\n",
       "        vertical-align: middle;\n",
       "    }\n",
       "\n",
       "    .dataframe tbody tr th {\n",
       "        vertical-align: top;\n",
       "    }\n",
       "\n",
       "    .dataframe thead th {\n",
       "        text-align: right;\n",
       "    }\n",
       "</style>\n",
       "<table border=\"1\" class=\"dataframe\">\n",
       "  <thead>\n",
       "    <tr style=\"text-align: right;\">\n",
       "      <th></th>\n",
       "      <th>timestamp</th>\n",
       "      <th>datetime</th>\n",
       "      <th>blockNumber</th>\n",
       "      <th>txHash</th>\n",
       "      <th>sender</th>\n",
       "      <th>recipient</th>\n",
       "      <th>amount0</th>\n",
       "      <th>amount1</th>\n",
       "      <th>price</th>\n",
       "      <th>tick</th>\n",
       "    </tr>\n",
       "  </thead>\n",
       "  <tbody>\n",
       "    <tr>\n",
       "      <th>0</th>\n",
       "      <td>2021-05-05 21:42:13</td>\n",
       "      <td>2021-05-05 21:42:13+00:00</td>\n",
       "      <td>12376730</td>\n",
       "      <td>0x9bf327df628323d51256f64e63e26acc15559776f646...</td>\n",
       "      <td>0xE592427A0AEce92De3Edee1F18E0157C05861564</td>\n",
       "      <td>0xe5C27478cDDF77670b16352D6B5752F60a96c71f</td>\n",
       "      <td>0.004221</td>\n",
       "      <td>-240.633362</td>\n",
       "      <td>57175</td>\n",
       "      <td>63490</td>\n",
       "    </tr>\n",
       "    <tr>\n",
       "      <th>1</th>\n",
       "      <td>2021-05-05 21:51:06</td>\n",
       "      <td>2021-05-05 21:51:06+00:00</td>\n",
       "      <td>12376776</td>\n",
       "      <td>0xd751b357b27be36d0b98faeaf9e1d078117ff3215f79...</td>\n",
       "      <td>0xE592427A0AEce92De3Edee1F18E0157C05861564</td>\n",
       "      <td>0xE3c14271E10b41fdF603c845434493884a8dB4d9</td>\n",
       "      <td>0.007017</td>\n",
       "      <td>-400.000000</td>\n",
       "      <td>57174</td>\n",
       "      <td>63490</td>\n",
       "    </tr>\n",
       "    <tr>\n",
       "      <th>2</th>\n",
       "      <td>2021-05-05 21:57:19</td>\n",
       "      <td>2021-05-05 21:57:19+00:00</td>\n",
       "      <td>12376802</td>\n",
       "      <td>0xccbe191bb29b7c89d941bd3f4de81aeb8a57c9e253a0...</td>\n",
       "      <td>0xE592427A0AEce92De3Edee1F18E0157C05861564</td>\n",
       "      <td>0x00dbc6E6b3420615f595FCB9DCD0D4a0e4514201</td>\n",
       "      <td>0.087727</td>\n",
       "      <td>-5000.000000</td>\n",
       "      <td>57158</td>\n",
       "      <td>63487</td>\n",
       "    </tr>\n",
       "    <tr>\n",
       "      <th>3</th>\n",
       "      <td>2021-05-05 21:59:00</td>\n",
       "      <td>2021-05-05 21:59:00+00:00</td>\n",
       "      <td>12376811</td>\n",
       "      <td>0x518fefce14365f42f5144da5503700e285540eade990...</td>\n",
       "      <td>0xE592427A0AEce92De3Edee1F18E0157C05861564</td>\n",
       "      <td>0xe623031eC40DAA3EF5f87b408a95c9221035291f</td>\n",
       "      <td>0.060222</td>\n",
       "      <td>-3431.560270</td>\n",
       "      <td>57148</td>\n",
       "      <td>63485</td>\n",
       "    </tr>\n",
       "    <tr>\n",
       "      <th>4</th>\n",
       "      <td>2021-05-05 22:08:57</td>\n",
       "      <td>2021-05-05 22:08:57+00:00</td>\n",
       "      <td>12376869</td>\n",
       "      <td>0xefd3b31c172ff21b8987ba4b224110f9e22dc3d9c726...</td>\n",
       "      <td>0xE592427A0AEce92De3Edee1F18E0157C05861564</td>\n",
       "      <td>0xE592427A0AEce92De3Edee1F18E0157C05861564</td>\n",
       "      <td>0.030485</td>\n",
       "      <td>-1736.872329</td>\n",
       "      <td>57142</td>\n",
       "      <td>63484</td>\n",
       "    </tr>\n",
       "  </tbody>\n",
       "</table>\n",
       "</div>"
      ],
      "text/plain": [
       "            timestamp                  datetime  blockNumber  \\\n",
       "0 2021-05-05 21:42:13 2021-05-05 21:42:13+00:00     12376730   \n",
       "1 2021-05-05 21:51:06 2021-05-05 21:51:06+00:00     12376776   \n",
       "2 2021-05-05 21:57:19 2021-05-05 21:57:19+00:00     12376802   \n",
       "3 2021-05-05 21:59:00 2021-05-05 21:59:00+00:00     12376811   \n",
       "4 2021-05-05 22:08:57 2021-05-05 22:08:57+00:00     12376869   \n",
       "\n",
       "                                              txHash  \\\n",
       "0  0x9bf327df628323d51256f64e63e26acc15559776f646...   \n",
       "1  0xd751b357b27be36d0b98faeaf9e1d078117ff3215f79...   \n",
       "2  0xccbe191bb29b7c89d941bd3f4de81aeb8a57c9e253a0...   \n",
       "3  0x518fefce14365f42f5144da5503700e285540eade990...   \n",
       "4  0xefd3b31c172ff21b8987ba4b224110f9e22dc3d9c726...   \n",
       "\n",
       "                                       sender  \\\n",
       "0  0xE592427A0AEce92De3Edee1F18E0157C05861564   \n",
       "1  0xE592427A0AEce92De3Edee1F18E0157C05861564   \n",
       "2  0xE592427A0AEce92De3Edee1F18E0157C05861564   \n",
       "3  0xE592427A0AEce92De3Edee1F18E0157C05861564   \n",
       "4  0xE592427A0AEce92De3Edee1F18E0157C05861564   \n",
       "\n",
       "                                    recipient   amount0      amount1  price  \\\n",
       "0  0xe5C27478cDDF77670b16352D6B5752F60a96c71f  0.004221  -240.633362  57175   \n",
       "1  0xE3c14271E10b41fdF603c845434493884a8dB4d9  0.007017  -400.000000  57174   \n",
       "2  0x00dbc6E6b3420615f595FCB9DCD0D4a0e4514201  0.087727 -5000.000000  57158   \n",
       "3  0xe623031eC40DAA3EF5f87b408a95c9221035291f  0.060222 -3431.560270  57148   \n",
       "4  0xE592427A0AEce92De3Edee1F18E0157C05861564  0.030485 -1736.872329  57142   \n",
       "\n",
       "    tick  \n",
       "0  63490  \n",
       "1  63490  \n",
       "2  63487  \n",
       "3  63485  \n",
       "4  63484  "
      ]
     },
     "execution_count": 14,
     "metadata": {},
     "output_type": "execute_result"
    }
   ],
   "source": [
    "df = pd.read_json('uniswap_wbtc_usdc_swaps.json')\n",
    "df.head()"
   ]
  },
  {
   "cell_type": "code",
   "execution_count": 15,
   "id": "7326e106",
   "metadata": {},
   "outputs": [
    {
     "data": {
      "text/plain": [
       "Index(['timestamp', 'datetime', 'blockNumber', 'txHash', 'sender', 'recipient',\n",
       "       'amount0', 'amount1', 'price', 'tick'],\n",
       "      dtype='object')"
      ]
     },
     "execution_count": 15,
     "metadata": {},
     "output_type": "execute_result"
    }
   ],
   "source": [
    "df.columns"
   ]
  },
  {
   "cell_type": "code",
   "execution_count": 16,
   "id": "87b4a753",
   "metadata": {},
   "outputs": [
    {
     "data": {
      "application/vnd.microsoft.datawrangler.viewer.v0+json": {
       "columns": [
        {
         "name": "index",
         "rawType": "int64",
         "type": "integer"
        },
        {
         "name": "timestamp",
         "rawType": "datetime64[ns]",
         "type": "datetime"
        },
        {
         "name": "datetime",
         "rawType": "datetime64[ns, UTC]",
         "type": "unknown"
        },
        {
         "name": "blockNumber",
         "rawType": "int64",
         "type": "integer"
        },
        {
         "name": "amount0",
         "rawType": "float64",
         "type": "float"
        },
        {
         "name": "amount1",
         "rawType": "float64",
         "type": "float"
        },
        {
         "name": "price",
         "rawType": "int64",
         "type": "integer"
        },
        {
         "name": "tick",
         "rawType": "int64",
         "type": "integer"
        }
       ],
       "ref": "fb346b34-2f6c-48ac-9424-8bd4345c019e",
       "rows": [
        [
         "0",
         "2021-05-05 21:42:13",
         "2021-05-05 21:42:13+00:00",
         "12376730",
         "0.0042213",
         "-240.633362",
         "57175",
         "63490"
        ],
        [
         "1",
         "2021-05-05 21:51:06",
         "2021-05-05 21:51:06+00:00",
         "12376776",
         "0.00701711",
         "-400.0",
         "57174",
         "63490"
        ],
        [
         "2",
         "2021-05-05 21:57:19",
         "2021-05-05 21:57:19+00:00",
         "12376802",
         "0.08772658",
         "-5000.0",
         "57158",
         "63487"
        ],
        [
         "3",
         "2021-05-05 21:59:00",
         "2021-05-05 21:59:00+00:00",
         "12376811",
         "0.06022163",
         "-3431.56027",
         "57148",
         "63485"
        ],
        [
         "4",
         "2021-05-05 22:08:57",
         "2021-05-05 22:08:57+00:00",
         "12376869",
         "0.03048526",
         "-1736.872329",
         "57142",
         "63484"
        ]
       ],
       "shape": {
        "columns": 7,
        "rows": 5
       }
      },
      "text/html": [
       "<div>\n",
       "<style scoped>\n",
       "    .dataframe tbody tr th:only-of-type {\n",
       "        vertical-align: middle;\n",
       "    }\n",
       "\n",
       "    .dataframe tbody tr th {\n",
       "        vertical-align: top;\n",
       "    }\n",
       "\n",
       "    .dataframe thead th {\n",
       "        text-align: right;\n",
       "    }\n",
       "</style>\n",
       "<table border=\"1\" class=\"dataframe\">\n",
       "  <thead>\n",
       "    <tr style=\"text-align: right;\">\n",
       "      <th></th>\n",
       "      <th>timestamp</th>\n",
       "      <th>datetime</th>\n",
       "      <th>blockNumber</th>\n",
       "      <th>amount0</th>\n",
       "      <th>amount1</th>\n",
       "      <th>price</th>\n",
       "      <th>tick</th>\n",
       "    </tr>\n",
       "  </thead>\n",
       "  <tbody>\n",
       "    <tr>\n",
       "      <th>0</th>\n",
       "      <td>2021-05-05 21:42:13</td>\n",
       "      <td>2021-05-05 21:42:13+00:00</td>\n",
       "      <td>12376730</td>\n",
       "      <td>0.004221</td>\n",
       "      <td>-240.633362</td>\n",
       "      <td>57175</td>\n",
       "      <td>63490</td>\n",
       "    </tr>\n",
       "    <tr>\n",
       "      <th>1</th>\n",
       "      <td>2021-05-05 21:51:06</td>\n",
       "      <td>2021-05-05 21:51:06+00:00</td>\n",
       "      <td>12376776</td>\n",
       "      <td>0.007017</td>\n",
       "      <td>-400.000000</td>\n",
       "      <td>57174</td>\n",
       "      <td>63490</td>\n",
       "    </tr>\n",
       "    <tr>\n",
       "      <th>2</th>\n",
       "      <td>2021-05-05 21:57:19</td>\n",
       "      <td>2021-05-05 21:57:19+00:00</td>\n",
       "      <td>12376802</td>\n",
       "      <td>0.087727</td>\n",
       "      <td>-5000.000000</td>\n",
       "      <td>57158</td>\n",
       "      <td>63487</td>\n",
       "    </tr>\n",
       "    <tr>\n",
       "      <th>3</th>\n",
       "      <td>2021-05-05 21:59:00</td>\n",
       "      <td>2021-05-05 21:59:00+00:00</td>\n",
       "      <td>12376811</td>\n",
       "      <td>0.060222</td>\n",
       "      <td>-3431.560270</td>\n",
       "      <td>57148</td>\n",
       "      <td>63485</td>\n",
       "    </tr>\n",
       "    <tr>\n",
       "      <th>4</th>\n",
       "      <td>2021-05-05 22:08:57</td>\n",
       "      <td>2021-05-05 22:08:57+00:00</td>\n",
       "      <td>12376869</td>\n",
       "      <td>0.030485</td>\n",
       "      <td>-1736.872329</td>\n",
       "      <td>57142</td>\n",
       "      <td>63484</td>\n",
       "    </tr>\n",
       "  </tbody>\n",
       "</table>\n",
       "</div>"
      ],
      "text/plain": [
       "            timestamp                  datetime  blockNumber   amount0  \\\n",
       "0 2021-05-05 21:42:13 2021-05-05 21:42:13+00:00     12376730  0.004221   \n",
       "1 2021-05-05 21:51:06 2021-05-05 21:51:06+00:00     12376776  0.007017   \n",
       "2 2021-05-05 21:57:19 2021-05-05 21:57:19+00:00     12376802  0.087727   \n",
       "3 2021-05-05 21:59:00 2021-05-05 21:59:00+00:00     12376811  0.060222   \n",
       "4 2021-05-05 22:08:57 2021-05-05 22:08:57+00:00     12376869  0.030485   \n",
       "\n",
       "       amount1  price   tick  \n",
       "0  -240.633362  57175  63490  \n",
       "1  -400.000000  57174  63490  \n",
       "2 -5000.000000  57158  63487  \n",
       "3 -3431.560270  57148  63485  \n",
       "4 -1736.872329  57142  63484  "
      ]
     },
     "execution_count": 16,
     "metadata": {},
     "output_type": "execute_result"
    }
   ],
   "source": [
    "df = df.drop(columns=['txHash', 'sender', 'recipient'])\n",
    "df.head(5)"
   ]
  },
  {
   "cell_type": "code",
   "execution_count": 17,
   "id": "50514f1f",
   "metadata": {},
   "outputs": [
    {
     "name": "stderr",
     "output_type": "stream",
     "text": [
      "/tmp/ipykernel_2993/1794400515.py:2: FutureWarning: 'T' is deprecated and will be removed in a future version, please use 'min' instead.\n",
      "  ohlcv = df.resample('1T', on='datetime').agg({\n"
     ]
    }
   ],
   "source": [
    "# Group by 1-minute bins\n",
    "ohlcv = df.resample('1T', on='datetime').agg({\n",
    "    'price': ['first', 'max', 'min', 'last'],\n",
    "    'amount1': lambda x: x.abs().sum()  # volume in token1 terms\n",
    "})"
   ]
  },
  {
   "cell_type": "code",
   "execution_count": 18,
   "id": "83afb5d7",
   "metadata": {},
   "outputs": [
    {
     "data": {
      "application/vnd.microsoft.datawrangler.viewer.v0+json": {
       "columns": [
        {
         "name": "index",
         "rawType": "int64",
         "type": "integer"
        },
        {
         "name": "datetime",
         "rawType": "datetime64[ns, UTC]",
         "type": "unknown"
        },
        {
         "name": "Open",
         "rawType": "float64",
         "type": "float"
        },
        {
         "name": "High",
         "rawType": "float64",
         "type": "float"
        },
        {
         "name": "Low",
         "rawType": "float64",
         "type": "float"
        },
        {
         "name": "Close",
         "rawType": "float64",
         "type": "float"
        },
        {
         "name": "Volume",
         "rawType": "float64",
         "type": "float"
        }
       ],
       "ref": "c7ca166f-475b-42b2-b8f0-cc98b849e8d6",
       "rows": [
        [
         "0",
         "2021-05-05 21:42:00+00:00",
         "57175.0",
         "57175.0",
         "57175.0",
         "57175.0",
         "240.633362"
        ],
        [
         "1",
         "2021-05-05 21:51:00+00:00",
         "57174.0",
         "57174.0",
         "57174.0",
         "57174.0",
         "400.0"
        ],
        [
         "2",
         "2021-05-05 21:57:00+00:00",
         "57158.0",
         "57158.0",
         "57158.0",
         "57158.0",
         "5000.0"
        ],
        [
         "3",
         "2021-05-05 21:59:00+00:00",
         "57148.0",
         "57148.0",
         "57148.0",
         "57148.0",
         "3431.56027"
        ],
        [
         "4",
         "2021-05-05 22:08:00+00:00",
         "57142.0",
         "57142.0",
         "57142.0",
         "57142.0",
         "1736.872329"
        ]
       ],
       "shape": {
        "columns": 6,
        "rows": 5
       }
      },
      "text/html": [
       "<div>\n",
       "<style scoped>\n",
       "    .dataframe tbody tr th:only-of-type {\n",
       "        vertical-align: middle;\n",
       "    }\n",
       "\n",
       "    .dataframe tbody tr th {\n",
       "        vertical-align: top;\n",
       "    }\n",
       "\n",
       "    .dataframe thead th {\n",
       "        text-align: right;\n",
       "    }\n",
       "</style>\n",
       "<table border=\"1\" class=\"dataframe\">\n",
       "  <thead>\n",
       "    <tr style=\"text-align: right;\">\n",
       "      <th></th>\n",
       "      <th>datetime</th>\n",
       "      <th>Open</th>\n",
       "      <th>High</th>\n",
       "      <th>Low</th>\n",
       "      <th>Close</th>\n",
       "      <th>Volume</th>\n",
       "    </tr>\n",
       "  </thead>\n",
       "  <tbody>\n",
       "    <tr>\n",
       "      <th>0</th>\n",
       "      <td>2021-05-05 21:42:00+00:00</td>\n",
       "      <td>57175.0</td>\n",
       "      <td>57175.0</td>\n",
       "      <td>57175.0</td>\n",
       "      <td>57175.0</td>\n",
       "      <td>240.633362</td>\n",
       "    </tr>\n",
       "    <tr>\n",
       "      <th>1</th>\n",
       "      <td>2021-05-05 21:51:00+00:00</td>\n",
       "      <td>57174.0</td>\n",
       "      <td>57174.0</td>\n",
       "      <td>57174.0</td>\n",
       "      <td>57174.0</td>\n",
       "      <td>400.000000</td>\n",
       "    </tr>\n",
       "    <tr>\n",
       "      <th>2</th>\n",
       "      <td>2021-05-05 21:57:00+00:00</td>\n",
       "      <td>57158.0</td>\n",
       "      <td>57158.0</td>\n",
       "      <td>57158.0</td>\n",
       "      <td>57158.0</td>\n",
       "      <td>5000.000000</td>\n",
       "    </tr>\n",
       "    <tr>\n",
       "      <th>3</th>\n",
       "      <td>2021-05-05 21:59:00+00:00</td>\n",
       "      <td>57148.0</td>\n",
       "      <td>57148.0</td>\n",
       "      <td>57148.0</td>\n",
       "      <td>57148.0</td>\n",
       "      <td>3431.560270</td>\n",
       "    </tr>\n",
       "    <tr>\n",
       "      <th>4</th>\n",
       "      <td>2021-05-05 22:08:00+00:00</td>\n",
       "      <td>57142.0</td>\n",
       "      <td>57142.0</td>\n",
       "      <td>57142.0</td>\n",
       "      <td>57142.0</td>\n",
       "      <td>1736.872329</td>\n",
       "    </tr>\n",
       "  </tbody>\n",
       "</table>\n",
       "</div>"
      ],
      "text/plain": [
       "                   datetime     Open     High      Low    Close       Volume\n",
       "0 2021-05-05 21:42:00+00:00  57175.0  57175.0  57175.0  57175.0   240.633362\n",
       "1 2021-05-05 21:51:00+00:00  57174.0  57174.0  57174.0  57174.0   400.000000\n",
       "2 2021-05-05 21:57:00+00:00  57158.0  57158.0  57158.0  57158.0  5000.000000\n",
       "3 2021-05-05 21:59:00+00:00  57148.0  57148.0  57148.0  57148.0  3431.560270\n",
       "4 2021-05-05 22:08:00+00:00  57142.0  57142.0  57142.0  57142.0  1736.872329"
      ]
     },
     "execution_count": 18,
     "metadata": {},
     "output_type": "execute_result"
    }
   ],
   "source": [
    "ohlcv.columns = ['Open', 'High', 'Low', 'Close', 'Volume']\n",
    "ohlcv = ohlcv.dropna().reset_index()\n",
    "\n",
    "ohlcv.head(5)"
   ]
  },
  {
   "cell_type": "code",
   "execution_count": 19,
   "id": "a5caf172",
   "metadata": {},
   "outputs": [
    {
     "data": {
      "application/vnd.microsoft.datawrangler.viewer.v0+json": {
       "columns": [
        {
         "name": "index",
         "rawType": "int64",
         "type": "integer"
        },
        {
         "name": "datetime",
         "rawType": "datetime64[ns, UTC]",
         "type": "unknown"
        },
        {
         "name": "Open",
         "rawType": "float64",
         "type": "float"
        },
        {
         "name": "High",
         "rawType": "float64",
         "type": "float"
        },
        {
         "name": "Low",
         "rawType": "float64",
         "type": "float"
        },
        {
         "name": "Close",
         "rawType": "float64",
         "type": "float"
        },
        {
         "name": "Volume",
         "rawType": "float64",
         "type": "float"
        }
       ],
       "ref": "c0e9e9b4-6abf-4ead-bb6a-59c939fb4732",
       "rows": [
        [
         "177",
         "2021-05-07 10:04:00+00:00",
         "56408.0",
         "56408.0",
         "56408.0",
         "56408.0",
         "49900.64978"
        ],
        [
         "178",
         "2021-05-07 10:13:00+00:00",
         "56482.0",
         "56482.0",
         "56482.0",
         "56482.0",
         "24418.528386"
        ],
        [
         "179",
         "2021-05-07 10:15:00+00:00",
         "56481.0",
         "56481.0",
         "56481.0",
         "56481.0",
         "500.0"
        ],
        [
         "180",
         "2021-05-07 10:20:00+00:00",
         "56480.0",
         "56480.0",
         "56480.0",
         "56480.0",
         "335.729448"
        ],
        [
         "181",
         "2021-05-07 10:36:00+00:00",
         "56501.0",
         "56501.0",
         "56501.0",
         "56501.0",
         "6938.522407"
        ]
       ],
       "shape": {
        "columns": 6,
        "rows": 5
       }
      },
      "text/html": [
       "<div>\n",
       "<style scoped>\n",
       "    .dataframe tbody tr th:only-of-type {\n",
       "        vertical-align: middle;\n",
       "    }\n",
       "\n",
       "    .dataframe tbody tr th {\n",
       "        vertical-align: top;\n",
       "    }\n",
       "\n",
       "    .dataframe thead th {\n",
       "        text-align: right;\n",
       "    }\n",
       "</style>\n",
       "<table border=\"1\" class=\"dataframe\">\n",
       "  <thead>\n",
       "    <tr style=\"text-align: right;\">\n",
       "      <th></th>\n",
       "      <th>datetime</th>\n",
       "      <th>Open</th>\n",
       "      <th>High</th>\n",
       "      <th>Low</th>\n",
       "      <th>Close</th>\n",
       "      <th>Volume</th>\n",
       "    </tr>\n",
       "  </thead>\n",
       "  <tbody>\n",
       "    <tr>\n",
       "      <th>177</th>\n",
       "      <td>2021-05-07 10:04:00+00:00</td>\n",
       "      <td>56408.0</td>\n",
       "      <td>56408.0</td>\n",
       "      <td>56408.0</td>\n",
       "      <td>56408.0</td>\n",
       "      <td>49900.649780</td>\n",
       "    </tr>\n",
       "    <tr>\n",
       "      <th>178</th>\n",
       "      <td>2021-05-07 10:13:00+00:00</td>\n",
       "      <td>56482.0</td>\n",
       "      <td>56482.0</td>\n",
       "      <td>56482.0</td>\n",
       "      <td>56482.0</td>\n",
       "      <td>24418.528386</td>\n",
       "    </tr>\n",
       "    <tr>\n",
       "      <th>179</th>\n",
       "      <td>2021-05-07 10:15:00+00:00</td>\n",
       "      <td>56481.0</td>\n",
       "      <td>56481.0</td>\n",
       "      <td>56481.0</td>\n",
       "      <td>56481.0</td>\n",
       "      <td>500.000000</td>\n",
       "    </tr>\n",
       "    <tr>\n",
       "      <th>180</th>\n",
       "      <td>2021-05-07 10:20:00+00:00</td>\n",
       "      <td>56480.0</td>\n",
       "      <td>56480.0</td>\n",
       "      <td>56480.0</td>\n",
       "      <td>56480.0</td>\n",
       "      <td>335.729448</td>\n",
       "    </tr>\n",
       "    <tr>\n",
       "      <th>181</th>\n",
       "      <td>2021-05-07 10:36:00+00:00</td>\n",
       "      <td>56501.0</td>\n",
       "      <td>56501.0</td>\n",
       "      <td>56501.0</td>\n",
       "      <td>56501.0</td>\n",
       "      <td>6938.522407</td>\n",
       "    </tr>\n",
       "  </tbody>\n",
       "</table>\n",
       "</div>"
      ],
      "text/plain": [
       "                     datetime     Open     High      Low    Close  \\\n",
       "177 2021-05-07 10:04:00+00:00  56408.0  56408.0  56408.0  56408.0   \n",
       "178 2021-05-07 10:13:00+00:00  56482.0  56482.0  56482.0  56482.0   \n",
       "179 2021-05-07 10:15:00+00:00  56481.0  56481.0  56481.0  56481.0   \n",
       "180 2021-05-07 10:20:00+00:00  56480.0  56480.0  56480.0  56480.0   \n",
       "181 2021-05-07 10:36:00+00:00  56501.0  56501.0  56501.0  56501.0   \n",
       "\n",
       "           Volume  \n",
       "177  49900.649780  \n",
       "178  24418.528386  \n",
       "179    500.000000  \n",
       "180    335.729448  \n",
       "181   6938.522407  "
      ]
     },
     "execution_count": 19,
     "metadata": {},
     "output_type": "execute_result"
    }
   ],
   "source": [
    "ohlcv.tail(5)"
   ]
  },
  {
   "cell_type": "code",
   "execution_count": 20,
   "id": "69067856",
   "metadata": {},
   "outputs": [
    {
     "name": "stderr",
     "output_type": "stream",
     "text": [
      "/tmp/ipykernel_2993/1751666748.py:2: FutureWarning: 'H' is deprecated and will be removed in a future version, please use 'h' instead.\n",
      "  ohlcv_hourly = df.resample('1H', on='datetime').agg({\n"
     ]
    },
    {
     "data": {
      "application/vnd.microsoft.datawrangler.viewer.v0+json": {
       "columns": [
        {
         "name": "index",
         "rawType": "int64",
         "type": "integer"
        },
        {
         "name": "datetime",
         "rawType": "datetime64[ns, UTC]",
         "type": "unknown"
        },
        {
         "name": "Open",
         "rawType": "int64",
         "type": "integer"
        },
        {
         "name": "High",
         "rawType": "int64",
         "type": "integer"
        },
        {
         "name": "Low",
         "rawType": "int64",
         "type": "integer"
        },
        {
         "name": "Close",
         "rawType": "int64",
         "type": "integer"
        },
        {
         "name": "Volume",
         "rawType": "float64",
         "type": "float"
        }
       ],
       "ref": "0545ff3c-e1e3-4d01-b222-ba4086ac4ca7",
       "rows": [
        [
         "0",
         "2021-05-05 21:00:00+00:00",
         "57175",
         "57175",
         "57148",
         "57148",
         "9072.193632"
        ],
        [
         "1",
         "2021-05-05 22:00:00+00:00",
         "57142",
         "57432",
         "57001",
         "57432",
         "186212.516222"
        ],
        [
         "2",
         "2021-05-05 23:00:00+00:00",
         "57379",
         "57379",
         "57367",
         "57367",
         "20940.168315"
        ],
        [
         "3",
         "2021-05-06 00:00:00+00:00",
         "57349",
         "57349",
         "57215",
         "57215",
         "48825.795681999996"
        ],
        [
         "4",
         "2021-05-06 01:00:00+00:00",
         "57038",
         "57038",
         "57008",
         "57014",
         "68658.735417"
        ]
       ],
       "shape": {
        "columns": 6,
        "rows": 5
       }
      },
      "text/html": [
       "<div>\n",
       "<style scoped>\n",
       "    .dataframe tbody tr th:only-of-type {\n",
       "        vertical-align: middle;\n",
       "    }\n",
       "\n",
       "    .dataframe tbody tr th {\n",
       "        vertical-align: top;\n",
       "    }\n",
       "\n",
       "    .dataframe thead th {\n",
       "        text-align: right;\n",
       "    }\n",
       "</style>\n",
       "<table border=\"1\" class=\"dataframe\">\n",
       "  <thead>\n",
       "    <tr style=\"text-align: right;\">\n",
       "      <th></th>\n",
       "      <th>datetime</th>\n",
       "      <th>Open</th>\n",
       "      <th>High</th>\n",
       "      <th>Low</th>\n",
       "      <th>Close</th>\n",
       "      <th>Volume</th>\n",
       "    </tr>\n",
       "  </thead>\n",
       "  <tbody>\n",
       "    <tr>\n",
       "      <th>0</th>\n",
       "      <td>2021-05-05 21:00:00+00:00</td>\n",
       "      <td>57175</td>\n",
       "      <td>57175</td>\n",
       "      <td>57148</td>\n",
       "      <td>57148</td>\n",
       "      <td>9072.193632</td>\n",
       "    </tr>\n",
       "    <tr>\n",
       "      <th>1</th>\n",
       "      <td>2021-05-05 22:00:00+00:00</td>\n",
       "      <td>57142</td>\n",
       "      <td>57432</td>\n",
       "      <td>57001</td>\n",
       "      <td>57432</td>\n",
       "      <td>186212.516222</td>\n",
       "    </tr>\n",
       "    <tr>\n",
       "      <th>2</th>\n",
       "      <td>2021-05-05 23:00:00+00:00</td>\n",
       "      <td>57379</td>\n",
       "      <td>57379</td>\n",
       "      <td>57367</td>\n",
       "      <td>57367</td>\n",
       "      <td>20940.168315</td>\n",
       "    </tr>\n",
       "    <tr>\n",
       "      <th>3</th>\n",
       "      <td>2021-05-06 00:00:00+00:00</td>\n",
       "      <td>57349</td>\n",
       "      <td>57349</td>\n",
       "      <td>57215</td>\n",
       "      <td>57215</td>\n",
       "      <td>48825.795682</td>\n",
       "    </tr>\n",
       "    <tr>\n",
       "      <th>4</th>\n",
       "      <td>2021-05-06 01:00:00+00:00</td>\n",
       "      <td>57038</td>\n",
       "      <td>57038</td>\n",
       "      <td>57008</td>\n",
       "      <td>57014</td>\n",
       "      <td>68658.735417</td>\n",
       "    </tr>\n",
       "  </tbody>\n",
       "</table>\n",
       "</div>"
      ],
      "text/plain": [
       "                   datetime   Open   High    Low  Close         Volume\n",
       "0 2021-05-05 21:00:00+00:00  57175  57175  57148  57148    9072.193632\n",
       "1 2021-05-05 22:00:00+00:00  57142  57432  57001  57432  186212.516222\n",
       "2 2021-05-05 23:00:00+00:00  57379  57379  57367  57367   20940.168315\n",
       "3 2021-05-06 00:00:00+00:00  57349  57349  57215  57215   48825.795682\n",
       "4 2021-05-06 01:00:00+00:00  57038  57038  57008  57014   68658.735417"
      ]
     },
     "execution_count": 20,
     "metadata": {},
     "output_type": "execute_result"
    }
   ],
   "source": [
    "# 1hour resampling\n",
    "ohlcv_hourly = df.resample('1H', on='datetime').agg({\n",
    "    'price': ['first', 'max', 'min', 'last'],\n",
    "    'amount1': lambda x: x.abs().sum()  # volume in token1 terms\n",
    "})\n",
    "ohlcv_hourly.columns = ['Open', 'High', 'Low', 'Close', 'Volume']\n",
    "ohlcv_hourly = ohlcv_hourly.dropna().reset_index()\n",
    "ohlcv_hourly.head(5)"
   ]
  }
 ],
 "metadata": {
  "kernelspec": {
   "display_name": "Python 3",
   "language": "python",
   "name": "python3"
  },
  "language_info": {
   "codemirror_mode": {
    "name": "ipython",
    "version": 3
   },
   "file_extension": ".py",
   "mimetype": "text/x-python",
   "name": "python",
   "nbconvert_exporter": "python",
   "pygments_lexer": "ipython3",
   "version": "3.12.1"
  }
 },
 "nbformat": 4,
 "nbformat_minor": 5
}
