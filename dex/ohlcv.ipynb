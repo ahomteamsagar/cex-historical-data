{
 "cells": [
  {
   "cell_type": "code",
   "execution_count": 1,
   "id": "5b7894b7",
   "metadata": {},
   "outputs": [],
   "source": [
    "import pandas as pd\n",
    "import numpy as np"
   ]
  },
  {
   "cell_type": "code",
   "execution_count": 2,
   "id": "3de80d1a",
   "metadata": {},
   "outputs": [
    {
     "data": {
      "application/vnd.microsoft.datawrangler.viewer.v0+json": {
       "columns": [
        {
         "name": "index",
         "rawType": "int64",
         "type": "integer"
        },
        {
         "name": "timestamp",
         "rawType": "datetime64[ns]",
         "type": "datetime"
        },
        {
         "name": "datetime",
         "rawType": "datetime64[ns, UTC]",
         "type": "unknown"
        },
        {
         "name": "blockNumber",
         "rawType": "int64",
         "type": "integer"
        },
        {
         "name": "txHash",
         "rawType": "object",
         "type": "string"
        },
        {
         "name": "sender",
         "rawType": "object",
         "type": "string"
        },
        {
         "name": "recipient",
         "rawType": "object",
         "type": "string"
        },
        {
         "name": "amount0",
         "rawType": "float64",
         "type": "float"
        },
        {
         "name": "amount1",
         "rawType": "float64",
         "type": "float"
        },
        {
         "name": "tick",
         "rawType": "int64",
         "type": "integer"
        },
        {
         "name": "executionPrice",
         "rawType": "float64",
         "type": "float"
        }
       ],
       "ref": "f3c6322b-6a17-47bd-b244-7c91ea9c6536",
       "rows": [
        [
         "0",
         "2021-05-05 21:42:13",
         "2021-05-05 21:42:13+00:00",
         "12376730",
         "0x9bf327df628323d51256f64e63e26acc15559776f64670252227ca7018f70bd6",
         "0xE592427A0AEce92De3Edee1F18E0157C05861564",
         "0xe5C27478cDDF77670b16352D6B5752F60a96c71f",
         "0.0042213",
         "-240.633362",
         "63490",
         "57004.56304929761"
        ],
        [
         "1",
         "2021-05-05 21:51:06",
         "2021-05-05 21:51:06+00:00",
         "12376776",
         "0xd751b357b27be36d0b98faeaf9e1d078117ff3215f79f2c96720dc091f9516c7",
         "0xE592427A0AEce92De3Edee1F18E0157C05861564",
         "0xE3c14271E10b41fdF603c845434493884a8dB4d9",
         "0.00701711",
         "-400.0",
         "63490",
         "57003.52424288631"
        ],
        [
         "2",
         "2021-05-05 21:57:19",
         "2021-05-05 21:57:19+00:00",
         "12376802",
         "0xccbe191bb29b7c89d941bd3f4de81aeb8a57c9e253a0dfb92c9453a196d89356",
         "0xE592427A0AEce92De3Edee1F18E0157C05861564",
         "0x00dbc6E6b3420615f595FCB9DCD0D4a0e4514201",
         "0.08772658",
         "-5000.0",
         "63487",
         "56995.26870875395"
        ],
        [
         "3",
         "2021-05-05 21:59:00",
         "2021-05-05 21:59:00+00:00",
         "12376811",
         "0x518fefce14365f42f5144da5503700e285540eade9907cfbff5e3b0fdda65c6d",
         "0xE592427A0AEce92De3Edee1F18E0157C05861564",
         "0xe623031eC40DAA3EF5f87b408a95c9221035291f",
         "0.06022163",
         "-3431.56027",
         "63485",
         "56982.18845952858"
        ],
        [
         "4",
         "2021-05-05 22:08:57",
         "2021-05-05 22:08:57+00:00",
         "12376869",
         "0xefd3b31c172ff21b8987ba4b224110f9e22dc3d9c72649ae82c2970461e38d7f",
         "0xE592427A0AEce92De3Edee1F18E0157C05861564",
         "0xE592427A0AEce92De3Edee1F18E0157C05861564",
         "0.03048526",
         "-1736.872329",
         "63484",
         "56974.168138962894"
        ]
       ],
       "shape": {
        "columns": 10,
        "rows": 5
       }
      },
      "text/html": [
       "<div>\n",
       "<style scoped>\n",
       "    .dataframe tbody tr th:only-of-type {\n",
       "        vertical-align: middle;\n",
       "    }\n",
       "\n",
       "    .dataframe tbody tr th {\n",
       "        vertical-align: top;\n",
       "    }\n",
       "\n",
       "    .dataframe thead th {\n",
       "        text-align: right;\n",
       "    }\n",
       "</style>\n",
       "<table border=\"1\" class=\"dataframe\">\n",
       "  <thead>\n",
       "    <tr style=\"text-align: right;\">\n",
       "      <th></th>\n",
       "      <th>timestamp</th>\n",
       "      <th>datetime</th>\n",
       "      <th>blockNumber</th>\n",
       "      <th>txHash</th>\n",
       "      <th>sender</th>\n",
       "      <th>recipient</th>\n",
       "      <th>amount0</th>\n",
       "      <th>amount1</th>\n",
       "      <th>tick</th>\n",
       "      <th>executionPrice</th>\n",
       "    </tr>\n",
       "  </thead>\n",
       "  <tbody>\n",
       "    <tr>\n",
       "      <th>0</th>\n",
       "      <td>2021-05-05 21:42:13</td>\n",
       "      <td>2021-05-05 21:42:13+00:00</td>\n",
       "      <td>12376730</td>\n",
       "      <td>0x9bf327df628323d51256f64e63e26acc15559776f646...</td>\n",
       "      <td>0xE592427A0AEce92De3Edee1F18E0157C05861564</td>\n",
       "      <td>0xe5C27478cDDF77670b16352D6B5752F60a96c71f</td>\n",
       "      <td>0.004221</td>\n",
       "      <td>-240.633362</td>\n",
       "      <td>63490</td>\n",
       "      <td>57004.563049</td>\n",
       "    </tr>\n",
       "    <tr>\n",
       "      <th>1</th>\n",
       "      <td>2021-05-05 21:51:06</td>\n",
       "      <td>2021-05-05 21:51:06+00:00</td>\n",
       "      <td>12376776</td>\n",
       "      <td>0xd751b357b27be36d0b98faeaf9e1d078117ff3215f79...</td>\n",
       "      <td>0xE592427A0AEce92De3Edee1F18E0157C05861564</td>\n",
       "      <td>0xE3c14271E10b41fdF603c845434493884a8dB4d9</td>\n",
       "      <td>0.007017</td>\n",
       "      <td>-400.000000</td>\n",
       "      <td>63490</td>\n",
       "      <td>57003.524243</td>\n",
       "    </tr>\n",
       "    <tr>\n",
       "      <th>2</th>\n",
       "      <td>2021-05-05 21:57:19</td>\n",
       "      <td>2021-05-05 21:57:19+00:00</td>\n",
       "      <td>12376802</td>\n",
       "      <td>0xccbe191bb29b7c89d941bd3f4de81aeb8a57c9e253a0...</td>\n",
       "      <td>0xE592427A0AEce92De3Edee1F18E0157C05861564</td>\n",
       "      <td>0x00dbc6E6b3420615f595FCB9DCD0D4a0e4514201</td>\n",
       "      <td>0.087727</td>\n",
       "      <td>-5000.000000</td>\n",
       "      <td>63487</td>\n",
       "      <td>56995.268709</td>\n",
       "    </tr>\n",
       "    <tr>\n",
       "      <th>3</th>\n",
       "      <td>2021-05-05 21:59:00</td>\n",
       "      <td>2021-05-05 21:59:00+00:00</td>\n",
       "      <td>12376811</td>\n",
       "      <td>0x518fefce14365f42f5144da5503700e285540eade990...</td>\n",
       "      <td>0xE592427A0AEce92De3Edee1F18E0157C05861564</td>\n",
       "      <td>0xe623031eC40DAA3EF5f87b408a95c9221035291f</td>\n",
       "      <td>0.060222</td>\n",
       "      <td>-3431.560270</td>\n",
       "      <td>63485</td>\n",
       "      <td>56982.188460</td>\n",
       "    </tr>\n",
       "    <tr>\n",
       "      <th>4</th>\n",
       "      <td>2021-05-05 22:08:57</td>\n",
       "      <td>2021-05-05 22:08:57+00:00</td>\n",
       "      <td>12376869</td>\n",
       "      <td>0xefd3b31c172ff21b8987ba4b224110f9e22dc3d9c726...</td>\n",
       "      <td>0xE592427A0AEce92De3Edee1F18E0157C05861564</td>\n",
       "      <td>0xE592427A0AEce92De3Edee1F18E0157C05861564</td>\n",
       "      <td>0.030485</td>\n",
       "      <td>-1736.872329</td>\n",
       "      <td>63484</td>\n",
       "      <td>56974.168139</td>\n",
       "    </tr>\n",
       "  </tbody>\n",
       "</table>\n",
       "</div>"
      ],
      "text/plain": [
       "            timestamp                  datetime  blockNumber  \\\n",
       "0 2021-05-05 21:42:13 2021-05-05 21:42:13+00:00     12376730   \n",
       "1 2021-05-05 21:51:06 2021-05-05 21:51:06+00:00     12376776   \n",
       "2 2021-05-05 21:57:19 2021-05-05 21:57:19+00:00     12376802   \n",
       "3 2021-05-05 21:59:00 2021-05-05 21:59:00+00:00     12376811   \n",
       "4 2021-05-05 22:08:57 2021-05-05 22:08:57+00:00     12376869   \n",
       "\n",
       "                                              txHash  \\\n",
       "0  0x9bf327df628323d51256f64e63e26acc15559776f646...   \n",
       "1  0xd751b357b27be36d0b98faeaf9e1d078117ff3215f79...   \n",
       "2  0xccbe191bb29b7c89d941bd3f4de81aeb8a57c9e253a0...   \n",
       "3  0x518fefce14365f42f5144da5503700e285540eade990...   \n",
       "4  0xefd3b31c172ff21b8987ba4b224110f9e22dc3d9c726...   \n",
       "\n",
       "                                       sender  \\\n",
       "0  0xE592427A0AEce92De3Edee1F18E0157C05861564   \n",
       "1  0xE592427A0AEce92De3Edee1F18E0157C05861564   \n",
       "2  0xE592427A0AEce92De3Edee1F18E0157C05861564   \n",
       "3  0xE592427A0AEce92De3Edee1F18E0157C05861564   \n",
       "4  0xE592427A0AEce92De3Edee1F18E0157C05861564   \n",
       "\n",
       "                                    recipient   amount0      amount1   tick  \\\n",
       "0  0xe5C27478cDDF77670b16352D6B5752F60a96c71f  0.004221  -240.633362  63490   \n",
       "1  0xE3c14271E10b41fdF603c845434493884a8dB4d9  0.007017  -400.000000  63490   \n",
       "2  0x00dbc6E6b3420615f595FCB9DCD0D4a0e4514201  0.087727 -5000.000000  63487   \n",
       "3  0xe623031eC40DAA3EF5f87b408a95c9221035291f  0.060222 -3431.560270  63485   \n",
       "4  0xE592427A0AEce92De3Edee1F18E0157C05861564  0.030485 -1736.872329  63484   \n",
       "\n",
       "   executionPrice  \n",
       "0    57004.563049  \n",
       "1    57003.524243  \n",
       "2    56995.268709  \n",
       "3    56982.188460  \n",
       "4    56974.168139  "
      ]
     },
     "execution_count": 2,
     "metadata": {},
     "output_type": "execute_result"
    }
   ],
   "source": [
    "df = pd.read_json('2021_uniswap_wbtc_usdc_swaps_corrected.json')\n",
    "df.head()"
   ]
  },
  {
   "cell_type": "code",
   "execution_count": 3,
   "id": "3746dde8",
   "metadata": {},
   "outputs": [
    {
     "data": {
      "text/plain": [
       "(3801, 10)"
      ]
     },
     "execution_count": 3,
     "metadata": {},
     "output_type": "execute_result"
    }
   ],
   "source": [
    "df.shape"
   ]
  },
  {
   "cell_type": "code",
   "execution_count": 4,
   "id": "7326e106",
   "metadata": {},
   "outputs": [
    {
     "data": {
      "text/plain": [
       "Index(['timestamp', 'datetime', 'blockNumber', 'txHash', 'sender', 'recipient',\n",
       "       'amount0', 'amount1', 'tick', 'executionPrice'],\n",
       "      dtype='object')"
      ]
     },
     "execution_count": 4,
     "metadata": {},
     "output_type": "execute_result"
    }
   ],
   "source": [
    "df.columns"
   ]
  },
  {
   "cell_type": "code",
   "execution_count": 5,
   "id": "87b4a753",
   "metadata": {},
   "outputs": [
    {
     "data": {
      "application/vnd.microsoft.datawrangler.viewer.v0+json": {
       "columns": [
        {
         "name": "index",
         "rawType": "int64",
         "type": "integer"
        },
        {
         "name": "timestamp",
         "rawType": "datetime64[ns]",
         "type": "datetime"
        },
        {
         "name": "datetime",
         "rawType": "datetime64[ns, UTC]",
         "type": "unknown"
        },
        {
         "name": "blockNumber",
         "rawType": "int64",
         "type": "integer"
        },
        {
         "name": "amount0",
         "rawType": "float64",
         "type": "float"
        },
        {
         "name": "amount1",
         "rawType": "float64",
         "type": "float"
        },
        {
         "name": "tick",
         "rawType": "int64",
         "type": "integer"
        },
        {
         "name": "executionPrice",
         "rawType": "float64",
         "type": "float"
        }
       ],
       "ref": "f87fc075-8e64-4b59-b095-bdf702b5286e",
       "rows": [
        [
         "0",
         "2021-05-05 21:42:13",
         "2021-05-05 21:42:13+00:00",
         "12376730",
         "0.0042213",
         "-240.633362",
         "63490",
         "57004.56304929761"
        ],
        [
         "1",
         "2021-05-05 21:51:06",
         "2021-05-05 21:51:06+00:00",
         "12376776",
         "0.00701711",
         "-400.0",
         "63490",
         "57003.52424288631"
        ],
        [
         "2",
         "2021-05-05 21:57:19",
         "2021-05-05 21:57:19+00:00",
         "12376802",
         "0.08772658",
         "-5000.0",
         "63487",
         "56995.26870875395"
        ],
        [
         "3",
         "2021-05-05 21:59:00",
         "2021-05-05 21:59:00+00:00",
         "12376811",
         "0.06022163",
         "-3431.56027",
         "63485",
         "56982.18845952858"
        ],
        [
         "4",
         "2021-05-05 22:08:57",
         "2021-05-05 22:08:57+00:00",
         "12376869",
         "0.03048526",
         "-1736.872329",
         "63484",
         "56974.168138962894"
        ]
       ],
       "shape": {
        "columns": 7,
        "rows": 5
       }
      },
      "text/html": [
       "<div>\n",
       "<style scoped>\n",
       "    .dataframe tbody tr th:only-of-type {\n",
       "        vertical-align: middle;\n",
       "    }\n",
       "\n",
       "    .dataframe tbody tr th {\n",
       "        vertical-align: top;\n",
       "    }\n",
       "\n",
       "    .dataframe thead th {\n",
       "        text-align: right;\n",
       "    }\n",
       "</style>\n",
       "<table border=\"1\" class=\"dataframe\">\n",
       "  <thead>\n",
       "    <tr style=\"text-align: right;\">\n",
       "      <th></th>\n",
       "      <th>timestamp</th>\n",
       "      <th>datetime</th>\n",
       "      <th>blockNumber</th>\n",
       "      <th>amount0</th>\n",
       "      <th>amount1</th>\n",
       "      <th>tick</th>\n",
       "      <th>executionPrice</th>\n",
       "    </tr>\n",
       "  </thead>\n",
       "  <tbody>\n",
       "    <tr>\n",
       "      <th>0</th>\n",
       "      <td>2021-05-05 21:42:13</td>\n",
       "      <td>2021-05-05 21:42:13+00:00</td>\n",
       "      <td>12376730</td>\n",
       "      <td>0.004221</td>\n",
       "      <td>-240.633362</td>\n",
       "      <td>63490</td>\n",
       "      <td>57004.563049</td>\n",
       "    </tr>\n",
       "    <tr>\n",
       "      <th>1</th>\n",
       "      <td>2021-05-05 21:51:06</td>\n",
       "      <td>2021-05-05 21:51:06+00:00</td>\n",
       "      <td>12376776</td>\n",
       "      <td>0.007017</td>\n",
       "      <td>-400.000000</td>\n",
       "      <td>63490</td>\n",
       "      <td>57003.524243</td>\n",
       "    </tr>\n",
       "    <tr>\n",
       "      <th>2</th>\n",
       "      <td>2021-05-05 21:57:19</td>\n",
       "      <td>2021-05-05 21:57:19+00:00</td>\n",
       "      <td>12376802</td>\n",
       "      <td>0.087727</td>\n",
       "      <td>-5000.000000</td>\n",
       "      <td>63487</td>\n",
       "      <td>56995.268709</td>\n",
       "    </tr>\n",
       "    <tr>\n",
       "      <th>3</th>\n",
       "      <td>2021-05-05 21:59:00</td>\n",
       "      <td>2021-05-05 21:59:00+00:00</td>\n",
       "      <td>12376811</td>\n",
       "      <td>0.060222</td>\n",
       "      <td>-3431.560270</td>\n",
       "      <td>63485</td>\n",
       "      <td>56982.188460</td>\n",
       "    </tr>\n",
       "    <tr>\n",
       "      <th>4</th>\n",
       "      <td>2021-05-05 22:08:57</td>\n",
       "      <td>2021-05-05 22:08:57+00:00</td>\n",
       "      <td>12376869</td>\n",
       "      <td>0.030485</td>\n",
       "      <td>-1736.872329</td>\n",
       "      <td>63484</td>\n",
       "      <td>56974.168139</td>\n",
       "    </tr>\n",
       "  </tbody>\n",
       "</table>\n",
       "</div>"
      ],
      "text/plain": [
       "            timestamp                  datetime  blockNumber   amount0  \\\n",
       "0 2021-05-05 21:42:13 2021-05-05 21:42:13+00:00     12376730  0.004221   \n",
       "1 2021-05-05 21:51:06 2021-05-05 21:51:06+00:00     12376776  0.007017   \n",
       "2 2021-05-05 21:57:19 2021-05-05 21:57:19+00:00     12376802  0.087727   \n",
       "3 2021-05-05 21:59:00 2021-05-05 21:59:00+00:00     12376811  0.060222   \n",
       "4 2021-05-05 22:08:57 2021-05-05 22:08:57+00:00     12376869  0.030485   \n",
       "\n",
       "       amount1   tick  executionPrice  \n",
       "0  -240.633362  63490    57004.563049  \n",
       "1  -400.000000  63490    57003.524243  \n",
       "2 -5000.000000  63487    56995.268709  \n",
       "3 -3431.560270  63485    56982.188460  \n",
       "4 -1736.872329  63484    56974.168139  "
      ]
     },
     "execution_count": 5,
     "metadata": {},
     "output_type": "execute_result"
    }
   ],
   "source": [
    "df = df.drop(columns=['txHash', 'sender', 'recipient'])\n",
    "df.head(5)"
   ]
  },
  {
   "cell_type": "code",
   "execution_count": 6,
   "id": "50514f1f",
   "metadata": {},
   "outputs": [],
   "source": [
    "# # Group by 1-minute bins\n",
    "# ohlcv = df.resample('1min', on='datetime').agg({\n",
    "#     'executionPrice': ['first', 'max', 'min', 'last'],\n",
    "#     'amount0': lambda x: x.abs().sum()  # volume in token1 terms\n",
    "# })\n",
    "\n",
    "# ohlcv.columns = ['Open', 'High', 'Low', 'Close', 'Volume']\n",
    "# ohlcv = ohlcv.dropna().reset_index()\n",
    "\n",
    "# ohlcv.head(5)\n",
    "\n",
    "# # export into CSV\n",
    "# ohlcv.to_csv('uniswap_wbtc_usdc_ohlcv.csv', index=False)"
   ]
  },
  {
   "cell_type": "code",
   "execution_count": 7,
   "id": "16622464",
   "metadata": {},
   "outputs": [],
   "source": [
    "def create_ohlcv(df, timeframe, filename):\n",
    "    ohlcv = df.resample(timeframe, on='datetime').agg({\n",
    "        'executionPrice': ['first', 'max', 'min', 'last'],\n",
    "        'amount0': lambda x: x.abs().sum()\n",
    "    })\n",
    "    ohlcv.columns = ['Open', 'High', 'Low', 'Close', 'Volume']\n",
    "    ohlcv = ohlcv.dropna().reset_index()\n",
    "    ohlcv.to_csv(filename, index=False)\n",
    "    return ohlcv"
   ]
  },
  {
   "cell_type": "code",
   "execution_count": 8,
   "id": "a4a2dd30",
   "metadata": {},
   "outputs": [
    {
     "name": "stderr",
     "output_type": "stream",
     "text": [
      "/tmp/ipykernel_113402/3993398381.py:2: FutureWarning: 'w' is deprecated and will be removed in a future version, please use 'W' instead.\n",
      "  ohlcv = df.resample(timeframe, on='datetime').agg({\n"
     ]
    }
   ],
   "source": [
    "# Then use it like:\n",
    "timeframes = ['5min', '15min', '30min', '1h', '4h', '6h', '12h', '1d', '1w']\n",
    "for tf in timeframes:\n",
    "    create_ohlcv(df, tf, f'data/{tf}_uniswap_wbtc_usdc_ohlcv.csv')"
   ]
  }
 ],
 "metadata": {
  "kernelspec": {
   "display_name": "Python 3",
   "language": "python",
   "name": "python3"
  },
  "language_info": {
   "codemirror_mode": {
    "name": "ipython",
    "version": 3
   },
   "file_extension": ".py",
   "mimetype": "text/x-python",
   "name": "python",
   "nbconvert_exporter": "python",
   "pygments_lexer": "ipython3",
   "version": "3.12.1"
  }
 },
 "nbformat": 4,
 "nbformat_minor": 5
}
